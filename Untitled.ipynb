{
 "cells": [
  {
   "cell_type": "code",
   "execution_count": 1,
   "id": "70cff253",
   "metadata": {},
   "outputs": [],
   "source": [
    "from typing import List, Union\n",
    "from numbers import Number\n",
    "from collections import Counter\n",
    "\n",
    "import numpy as np\n",
    "import pandas as pd\n",
    "\n",
    "from cyeva.utils import (\n",
    "    convert_to_ndarray,\n",
    "    fix_zero_division,\n",
    "    result_round_digit,\n",
    "    source_round_digit,\n",
    "    assert_length,\n",
    "    drop_nan,\n",
    ")\n",
    "from cyeva.config.directions.wind import DIRECTION8_CENTER_ANGLE, DIRECTION16_CENTER_ANGLE\n",
    "from cyeva.config.levels.wind import (\n",
    "    GENERAL_WIND_SPEED_LEVELS,\n",
    ")\n",
    "from cyeva.core.statistic import (\n",
    "    # calc_differ_accuracy_rate,\n",
    "    calc_mae,\n",
    "    calc_rmse,\n",
    "    calc_rss,\n",
    "    calc_chi_square,\n",
    "    calc_linregress,\n",
    ")\n",
    "from cyeva.core.binarize import threshold_binarize\n",
    "from cyeva.core import Comparison"
   ]
  },
  {
   "cell_type": "code",
   "execution_count": 2,
   "id": "715a79d5",
   "metadata": {},
   "outputs": [],
   "source": [
    "def get_least_angle_deflection(\n",
    "    angle1: Union[Number, np.ndarray], angle2: Union[Number, np.ndarray]\n",
    ") -> Union[Number, np.ndarray]:\n",
    "    \"\"\"Calculate the least angle deflection between two angles.\n",
    "\n",
    "    Args:\n",
    "        angle1 (Union[Number, np.ndarray]): One angle(degree).\n",
    "        angle2 (Union[Number, np.ndarray]): Another angle(degree).\n",
    "\n",
    "    Returns:\n",
    "        Union[Number, np.ndarray]: The least deflection between two angles.\n",
    "    \"\"\"\n",
    "\n",
    "    angle1 %= 360\n",
    "    angle2 %= 360\n",
    "\n",
    "    deflection1 = abs(angle1 - angle2)\n",
    "    deflection2 = 360 - abs(angle1 - angle2)\n",
    "\n",
    "    if isinstance(angle1, Number) and isinstance(angle2, Number):\n",
    "        return deflection1 if deflection1 < deflection2 else deflection2\n",
    "    else:\n",
    "        index1 = np.where(deflection1 <= deflection2)\n",
    "        index2 = np.where(deflection2 <= deflection1)\n",
    "\n",
    "        deflection = np.full_like(deflection1, 0)\n",
    "\n",
    "        deflection[index1] = deflection1[index1]\n",
    "        deflection[index2] = deflection2[index2]\n",
    "\n",
    "        return deflection"
   ]
  },
  {
   "cell_type": "code",
   "execution_count": 3,
   "id": "d68e5b30",
   "metadata": {},
   "outputs": [],
   "source": [
    "angle1 = np.array([100, 1, 89, 270, 270, 0, 0])\n",
    "angle2 = np.array([105, 300, 269, 89, 91, 0, 359])"
   ]
  },
  {
   "cell_type": "code",
   "execution_count": 4,
   "id": "5990f646",
   "metadata": {},
   "outputs": [
    {
     "data": {
      "text/plain": [
       "array([  5,  61, 180, 179, 179,   0,   1])"
      ]
     },
     "execution_count": 4,
     "metadata": {},
     "output_type": "execute_result"
    }
   ],
   "source": [
    "get_least_angle_deflection(angle1, angle2)"
   ]
  },
  {
   "cell_type": "code",
   "execution_count": 5,
   "id": "d1feec55",
   "metadata": {},
   "outputs": [
    {
     "data": {
      "text/plain": [
       "179"
      ]
     },
     "execution_count": 5,
     "metadata": {},
     "output_type": "execute_result"
    }
   ],
   "source": [
    "get_least_angle_deflection(angle1[4], angle2[4])"
   ]
  },
  {
   "cell_type": "code",
   "execution_count": null,
   "id": "8e9570e4",
   "metadata": {},
   "outputs": [],
   "source": []
  },
  {
   "cell_type": "code",
   "execution_count": 6,
   "id": "112bc2d8",
   "metadata": {},
   "outputs": [],
   "source": [
    "def identify_direction(\n",
    "    angle: Union[Number, np.ndarray], dnum: int = 8\n",
    ") -> Union[int, np.ndarray]:\n",
    "    \"\"\"Identify 8 cardinal directions by angle.\n",
    "\n",
    "    Args:\n",
    "        angle (Number): The wind direction in degree.\n",
    "        dnum (int): The wind directions number.\n",
    "\n",
    "    Returns:\n",
    "        Union[int, np.ndarray]: Direction ID of the cardinal direction.\n",
    "    \"\"\"\n",
    "    if isinstance(angle, List):\n",
    "        angle = np.array(angle)\n",
    "\n",
    "    if dnum == 8:\n",
    "        DIRECTION_CENTER_ANGLE = DIRECTION8_CENTER_ANGLE\n",
    "        threshold = 22.5\n",
    "    elif dnum == 16:\n",
    "        DIRECTION_CENTER_ANGLE = DIRECTION16_CENTER_ANGLE\n",
    "        threshold = 11.25\n",
    "\n",
    "    angle %= 360\n",
    "\n",
    "    if isinstance(angle, Number):\n",
    "        for dir_id, center_angle in DIRECTION_CENTER_ANGLE.items():\n",
    "            if get_least_angle_deflection(angle, center_angle) <= threshold:\n",
    "                break\n",
    "\n",
    "        return dir_id\n",
    "\n",
    "    elif isinstance(angle, np.ndarray):\n",
    "        dir_ids = np.full_like(angle, -1)\n",
    "        for dir_id, center_angle in DIRECTION_CENTER_ANGLE.items():\n",
    "            least_angle_defl = get_least_angle_deflection(angle, center_angle)\n",
    "            dir_ids[least_angle_defl <= threshold] = dir_id\n",
    "\n",
    "        return dir_ids"
   ]
  },
  {
   "cell_type": "code",
   "execution_count": 7,
   "id": "a853cfc4",
   "metadata": {},
   "outputs": [
    {
     "data": {
      "text/plain": [
       "7"
      ]
     },
     "execution_count": 7,
     "metadata": {},
     "output_type": "execute_result"
    }
   ],
   "source": [
    "identify_direction(300, dnum=8)"
   ]
  },
  {
   "cell_type": "code",
   "execution_count": 8,
   "id": "2cf74e6d",
   "metadata": {},
   "outputs": [
    {
     "data": {
      "text/plain": [
       "13"
      ]
     },
     "execution_count": 8,
     "metadata": {},
     "output_type": "execute_result"
    }
   ],
   "source": [
    "identify_direction(300, dnum=16)"
   ]
  },
  {
   "cell_type": "code",
   "execution_count": 15,
   "id": "6f72ae4a",
   "metadata": {},
   "outputs": [
    {
     "data": {
      "text/plain": [
       "array([12,  0])"
      ]
     },
     "execution_count": 15,
     "metadata": {},
     "output_type": "execute_result"
    }
   ],
   "source": [
    "identify_direction(np.array([270, 358]), dnum=16)"
   ]
  },
  {
   "cell_type": "code",
   "execution_count": null,
   "id": "b11a6ceb",
   "metadata": {},
   "outputs": [],
   "source": []
  },
  {
   "cell_type": "code",
   "execution_count": 24,
   "id": "1eed96f7",
   "metadata": {},
   "outputs": [],
   "source": [
    "def identify_speed_level(speed: Union[Number, np.ndarray]) -> Union[int, np.ndarray]:\n",
    "    \"\"\"Identify wind level by speed.\n",
    "\n",
    "    Args:\n",
    "        speed (Union[Number, np.ndarray]): Wind speed in m/s.\n",
    "\n",
    "    Returns:\n",
    "        Union[int, np.ndarray]: Wind level.\n",
    "    \"\"\"\n",
    "    if isinstance(speed, np.ndarray):\n",
    "        spd_levs = np.full_like(speed, np.nan)\n",
    "    for lev, attr in GENERAL_WIND_SPEED_LEVELS.items():\n",
    "        minimum = attr[\"min\"]\n",
    "        maximum = attr[\"max\"]\n",
    "        if isinstance(speed, Number):\n",
    "            if lev == 0:\n",
    "                if minimum <= speed <= maximum:\n",
    "                    return lev\n",
    "            else:\n",
    "                if minimum < speed <= maximum:\n",
    "                    return lev\n",
    "        elif isinstance(speed, np.ndarray):\n",
    "            if lev == 0:\n",
    "                spd_levs[(speed >= minimum) & (speed <= maximum)] = lev\n",
    "            else:\n",
    "                spd_levs[(speed > minimum) & (speed <= maximum)] = lev\n",
    "\n",
    "    return spd_levs"
   ]
  },
  {
   "cell_type": "code",
   "execution_count": 25,
   "id": "9f5ff79c",
   "metadata": {},
   "outputs": [
    {
     "data": {
      "text/plain": [
       "array([ 1.,  2.,  2.,  3.,  5.,  8., 11.])"
      ]
     },
     "execution_count": 25,
     "metadata": {},
     "output_type": "execute_result"
    }
   ],
   "source": [
    "identify_speed_level(np.array([1,2,3,4,10,20,28.6]))"
   ]
  },
  {
   "cell_type": "code",
   "execution_count": 38,
   "id": "d1b92315",
   "metadata": {},
   "outputs": [],
   "source": [
    "def get_least_dir_deflection(\n",
    "    dir1: Union[int, np.ndarray], dir2: Union[int, np.ndarray], circle_num: int = 8\n",
    ") -> Union[int, np.ndarray]:\n",
    "    \"\"\"Get least deflection from two directions.\n",
    "\n",
    "    Args:\n",
    "        dir1 (Union[int, np.ndarray]): One direction number(0-7 if circle_num is 8)\n",
    "        dir2 (Union[int, np.ndarray]): Another direction number(0-7 if circle_num is 8)\n",
    "        circle_num (int, optional): Circulation knot num. Defaults to 8.\n",
    "\n",
    "    Returns:\n",
    "        Union[int, np.ndarray]: The least deflection of directions.\n",
    "    \"\"\"\n",
    "    if isinstance(dir1, Number) and isinstance(dir2, Number):\n",
    "        deflection1 = abs(dir1 - dir2)\n",
    "        deflection2 = circle_num - abs(dir1 - dir2)\n",
    "\n",
    "        return int(deflection1) if deflection1 < deflection2 else int(deflection2)\n",
    "    else:\n",
    "        deflection1 = np.abs(dir1 - dir2)\n",
    "        deflection2 = circle_num - np.abs(dir1 - dir2)\n",
    "\n",
    "        index1 = np.where(deflection1 <= deflection2)\n",
    "        index2 = np.where(deflection2 <= deflection1)\n",
    "\n",
    "        deflection = np.full_like(deflection1, 0)\n",
    "\n",
    "        deflection[index1] = deflection1[index1]\n",
    "        deflection[index2] = deflection2[index2]\n",
    "\n",
    "        return deflection"
   ]
  },
  {
   "cell_type": "code",
   "execution_count": 39,
   "id": "ec795710",
   "metadata": {},
   "outputs": [
    {
     "data": {
      "text/plain": [
       "array([3, 3, 2])"
      ]
     },
     "execution_count": 39,
     "metadata": {},
     "output_type": "execute_result"
    }
   ],
   "source": [
    "get_least_dir_deflection(np.array([0,2,3]),5)"
   ]
  },
  {
   "cell_type": "code",
   "execution_count": null,
   "id": "24df9211",
   "metadata": {},
   "outputs": [],
   "source": []
  },
  {
   "cell_type": "code",
   "execution_count": 42,
   "id": "e31907b4",
   "metadata": {},
   "outputs": [],
   "source": [
    "def get_least_lev_diff(\n",
    "    lev1: Union[int, np.ndarray],\n",
    "    lev2: Union[int, np.ndarray],\n",
    ") -> int:\n",
    "    \"\"\"Calculate least level difference.\n",
    "\n",
    "    Args:\n",
    "        lev1 (int): One level value.\n",
    "        lev2 (int): Another level value.\n",
    "\n",
    "    Returns:\n",
    "        int: Least level difference.\n",
    "    \"\"\"\n",
    "    return np.abs(lev1 - lev2)"
   ]
  },
  {
   "cell_type": "code",
   "execution_count": 83,
   "id": "645e47c4",
   "metadata": {},
   "outputs": [],
   "source": [
    "def calc_wind_dir_score(observation, forecast, dnum=8):\n",
    "    \"\"\"计算风向评分\n",
    "\n",
    "    Args:\n",
    "        observation (list | ndarray): 观测风向角度\n",
    "        forecast (list | ndarray): 预报风向角度\n",
    "\n",
    "    Returns:\n",
    "        float: 风向预报评分\n",
    "    \"\"\"\n",
    "\n",
    "    if dnum == 8:\n",
    "        obs_d8 = identify_direction(observation)\n",
    "        fct_d8 = identify_direction(forecast)\n",
    "        \n",
    "\n",
    "        dir_deflection = get_least_lev_diff(obs_d8, fct_d8)\n",
    "\n",
    "        score_series = np.full_like(dir_deflection, 0).astype(float)\n",
    "        score_series[np.isclose(dir_deflection, 1)] = 0.6\n",
    "        score_series[dir_deflection < 1] = 1\n",
    "\n",
    "    elif dnum == 16:\n",
    "        obs_d16 = identify_direction(observation, dnum=16)\n",
    "        fct_d16 = identify_direction(forecast, dnum=16)\n",
    "\n",
    "        dir_deflection = get_least_lev_diff(obs_d16, fct_d16)\n",
    "\n",
    "        score_series = np.full_like(dir_deflection, 0).astype(float)\n",
    "        score_series[np.isclose(dir_deflection, 2)] = 0.6\n",
    "        score_series[np.isclose(dir_deflection, 1)] = 0.8\n",
    "        score_series[dir_deflection < 1] = 1\n",
    "    \n",
    "    try:\n",
    "        return np.sum(score_series) / len(score_series)\n",
    "    except TypeError:\n",
    "        return np.sum(score_series)"
   ]
  },
  {
   "cell_type": "code",
   "execution_count": 84,
   "id": "d66a52e3",
   "metadata": {},
   "outputs": [
    {
     "data": {
      "text/plain": [
       "1.0"
      ]
     },
     "execution_count": 84,
     "metadata": {},
     "output_type": "execute_result"
    }
   ],
   "source": [
    "calc_wind_dir_score(90,75, dnum=8)"
   ]
  },
  {
   "cell_type": "code",
   "execution_count": 85,
   "id": "136a3f58",
   "metadata": {},
   "outputs": [
    {
     "data": {
      "text/plain": [
       "0.8"
      ]
     },
     "execution_count": 85,
     "metadata": {},
     "output_type": "execute_result"
    }
   ],
   "source": [
    "calc_wind_dir_score(90,75, dnum=16)"
   ]
  },
  {
   "cell_type": "code",
   "execution_count": 88,
   "id": "c6724cf2",
   "metadata": {},
   "outputs": [
    {
     "data": {
      "text/plain": [
       "0.4"
      ]
     },
     "execution_count": 88,
     "metadata": {},
     "output_type": "execute_result"
    }
   ],
   "source": [
    "calc_wind_dir_score(np.array([90, np.nan]),np.array([75, 90]), dnum=16)"
   ]
  },
  {
   "cell_type": "code",
   "execution_count": 116,
   "id": "d3d65099",
   "metadata": {},
   "outputs": [],
   "source": [
    "def calc_wind_dir_accuracy_ratio(\n",
    "    observation: Union[Number, np.ndarray],\n",
    "    forecast: Union[Number, np.ndarray],\n",
    "    mode=\"degree\",\n",
    "    threshold=22.5,\n",
    "):\n",
    "    \"\"\"计算风向准确率\n",
    "\n",
    "    Args:\n",
    "        observation (list | ndarray): 观测风向角度\n",
    "        forecast (list | ndarray): 预报风向角度\n",
    "        mode (str): 计算模式，可选选项有'degree', 'drange8'\n",
    "                    * degree 表示以角度偏转为指标进行计算\n",
    "                    * drange8 表示以8方位角为指标进行计算\n",
    "                    * drange16 表示以16方位角为指标进行计算\n",
    "        threshold (Number): 仅 mode == degree 模式时有效，即判断预报准确的角度阈值\n",
    "\n",
    "    Returns:\n",
    "        float: 风向准确率(%)\n",
    "    \"\"\"\n",
    "    try:\n",
    "        couples = zip(observation, forecast)\n",
    "    except TypeError:\n",
    "        couples = zip([observation], [forecast])\n",
    "\n",
    "    if mode == \"degree\":\n",
    "        angle_deflection = np.array(\n",
    "            [get_least_angle_deflection(obs, fct) for obs, fct in couples]\n",
    "        )\n",
    "\n",
    "        count_series = np.full_like(angle_deflection, 0).astype(float)\n",
    "        count_series[angle_deflection <= threshold] = 1\n",
    "\n",
    "        return np.sum(count_series) / len(count_series) * 100\n",
    "\n",
    "    elif mode == \"drange8\":\n",
    "        obs_d8 = identify_direction(observation)\n",
    "        fct_d8 = identify_direction(forecast)\n",
    "\n",
    "        cross = obs_d8 == fct_d8\n",
    "        try:\n",
    "            total = len(cross)\n",
    "        except TypeError:\n",
    "            cross = [cross]\n",
    "            total = 1\n",
    "        counter = Counter(cross)\n",
    "        correct = counter[True]\n",
    "\n",
    "        return correct / total * 100\n",
    "\n",
    "    elif mode == \"drange16\":\n",
    "        obs_d16 = identify_direction(observation, dnum=16)\n",
    "        fct_d16 = identify_direction(forecast, dnum=16)\n",
    "\n",
    "        cross = obs_d16 == fct_d16\n",
    "        try:\n",
    "            total = len(cross)\n",
    "        except TypeError:\n",
    "            cross = [cross]\n",
    "            total = 1\n",
    "        counter = Counter(cross)\n",
    "        correct = counter[True]\n",
    "\n",
    "        return correct / total * 100"
   ]
  },
  {
   "cell_type": "code",
   "execution_count": 131,
   "id": "dc098a55",
   "metadata": {},
   "outputs": [
    {
     "data": {
      "text/plain": [
       "33.33333333333333"
      ]
     },
     "execution_count": 131,
     "metadata": {},
     "output_type": "execute_result"
    }
   ],
   "source": [
    "calc_wind_dir_accuracy_ratio(np.array([10,100,100]), np.array([40,120,110]), mode='drange8')"
   ]
  },
  {
   "cell_type": "code",
   "execution_count": 130,
   "id": "09128c71",
   "metadata": {},
   "outputs": [
    {
     "data": {
      "text/plain": [
       "100.0"
      ]
     },
     "execution_count": 130,
     "metadata": {},
     "output_type": "execute_result"
    }
   ],
   "source": [
    "calc_wind_dir_accuracy_ratio(100, 101.25, mode='drange16')"
   ]
  },
  {
   "cell_type": "code",
   "execution_count": 129,
   "id": "0115b517",
   "metadata": {},
   "outputs": [
    {
     "data": {
      "text/plain": [
       "101.25"
      ]
     },
     "execution_count": 129,
     "metadata": {},
     "output_type": "execute_result"
    }
   ],
   "source": [
    "(90 + 112.5) / 2"
   ]
  }
 ],
 "metadata": {
  "kernelspec": {
   "display_name": "Python 3 (ipykernel)",
   "language": "python",
   "name": "python3"
  },
  "language_info": {
   "codemirror_mode": {
    "name": "ipython",
    "version": 3
   },
   "file_extension": ".py",
   "mimetype": "text/x-python",
   "name": "python",
   "nbconvert_exporter": "python",
   "pygments_lexer": "ipython3",
   "version": "3.8.13"
  }
 },
 "nbformat": 4,
 "nbformat_minor": 5
}
